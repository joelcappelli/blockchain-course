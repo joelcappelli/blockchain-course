{
 "cells": [
  {
   "cell_type": "markdown",
   "metadata": {},
   "source": [
    "# Connect to a Ganache Blockchain\n",
    "\n",
    "In this activity, you will use the mnemonic seed phrase that was provied by Ganache to create your HD wallet and your Ethereum public-private key pair and account address.\n",
    "\n",
    "You will then use Web3.py to connect to the Ganache blockchain.\n",
    "\n",
    "\n",
    "## Instructions\n",
    "\n",
    "Complete each of the following steps:\n",
    "\n",
    "1. In the `Unsolved` folder, create your `.env` file, which should contain the mnemonic seed phrase provided by Ganache saved as the variable `MNEMONIC`.\n",
    "\n",
    "2. Import the necessary libraries and functions, and set Ganache as your provider by defining a variable w3 that uses the Web3 function to define the HTTPProvider as the RPC Server address provided by Ganache.\n",
    "\n",
    "3. Use the mnemonic seed phrase provided by Ganache, and the `Wallet()` class from the bip44 package, to generate a wallet instance. Then, derive your private and public keys by calling the `.derive_account` method on the `wallet` object and passing it the string “eth”. Save the two returned values as variables named `private` and `public`.\n",
    "\n",
    "4. Pass the private-key value to `Account.privateKeyToAccount`, and save the returned `account` object as a variable named `account`.\n",
    "\n",
    "5. Call `account.address` and save it as a new variable named `account_address`. Then print the `account_address` variable to get your public Ethereum address from your public key.\n",
    "\n",
    "6. In the Jupyter notebook, fetch the balance of your Ethereum address by using Web3.py. To do so, complete the following steps:\n",
    "\n",
    "   * Call the `w3.eth.getBalance` method, and pass it the `account_address` variable. Save the returned value as a variable named `wei_balance`.\n",
    "   * Call the function `w3.fromWei`, and pass it your `wei_balance` variable and the string “ether”. Save the returned value as a variable named `ether`. Print your account balance in ether.\n",
    "   \n",
    "## References\n",
    "\n",
    "[Web3.py](https://web3py.readthedocs.io/en/stable/)\n",
    "\n",
    "[Ganache](https://www.trufflesuite.com/docs/ganache/overview)\n",
    "\n",
    "---"
   ]
  },
  {
   "cell_type": "markdown",
   "metadata": {},
   "source": [
    "### Step 1: In the `Unsolved` folder, create your `.env` file, which should contain the mnemonic seed phrase provided by Ganache saved as the variable `MNEMONIC`."
   ]
  },
  {
   "cell_type": "markdown",
   "metadata": {},
   "source": [
    "### Step 2: Import the necessary libraries and functions, and set Ganache as your provider by defining a variable w3 that uses the Web3 function to define the HTTPProvider as the RPC Server address provided by Ganache."
   ]
  },
  {
   "cell_type": "code",
   "execution_count": 1,
   "metadata": {},
   "outputs": [],
   "source": [
    "# Imports\n",
    "import os\n",
    "from dotenv import load_dotenv\n",
    "load_dotenv()\n",
    "from bip44 import Wallet\n",
    "from web3 import Account\n",
    "from web3 import Web3\n",
    "w3 = Web3(Web3.HTTPProvider('HTTP://127.0.0.1:7545'))\n"
   ]
  },
  {
   "cell_type": "markdown",
   "metadata": {},
   "source": [
    "### Step 3: Use the mnemonic seed phrase provided by Ganache, and the `Wallet()` class from the bip44 package, to generate a wallet instance. Then, derive your private and public keys by calling the `.derive_account` method on the `wallet` object and passing it the string “eth”. Save the two returned values as variables named `private` and `public`."
   ]
  },
  {
   "cell_type": "code",
   "execution_count": 2,
   "metadata": {},
   "outputs": [
    {
     "name": "stdout",
     "output_type": "stream",
     "text": [
      "whale raven bleak front engine talk illness pumpkin valve inmate bone humble\n"
     ]
    }
   ],
   "source": [
    "# Call os.getenv(\"MNEMONIC\") and save it's value as a variable named mnemonic\n",
    "# YOUR CODE HERE\n",
    "mnemonic = os.getenv(\"MNEMONIC\")\n",
    "# View the data type of mnemonic to confirm its availability\n",
    "print(mnemonic)"
   ]
  },
  {
   "cell_type": "code",
   "execution_count": 3,
   "metadata": {},
   "outputs": [
    {
     "data": {
      "text/plain": [
       "<bip44.wallet.Wallet at 0x47b76b4748>"
      ]
     },
     "execution_count": 3,
     "metadata": {},
     "output_type": "execute_result"
    }
   ],
   "source": [
    "# Instantiate a new instance of Wallet and pass it the mnemonic variable\n",
    "wallet = Wallet(mnemonic)\n",
    "wallet"
   ]
  },
  {
   "cell_type": "code",
   "execution_count": 9,
   "metadata": {},
   "outputs": [
    {
     "name": "stdout",
     "output_type": "stream",
     "text": [
      "b'\\x03\\xc9\\x05TJwST\\xa2Ef\\x95:\\x87\\xd8\\xc6^$\\xbe\\xff\\xc0[F\\xc7\\x93\\x00\\x9b+L\\x931gG'\n",
      "b'\\x0f\\x85$\\x91\\xe5\\x95`\\xcaQ]\\xd4-\\xfeY\\x10\\x04\\xbf\\xa8\\xb3\\xec\\xdc^\\xe2\\xfd\\x16\\xfb\\x8e\\x8b\\xa3$\\x08\\x9c'\n"
     ]
    }
   ],
   "source": [
    "# Calling the derive_account method on your wallet instance\n",
    "# Pass the string eth to the method\n",
    "private, public = wallet.derive_account(\"eth\")\n",
    "print(public)\n",
    "print(private)"
   ]
  },
  {
   "cell_type": "markdown",
   "metadata": {},
   "source": [
    "### Step 4: Pass the private-key value to `Account.privateKeyToAccount`, and save the returned `account` object as a variable named `account`."
   ]
  },
  {
   "cell_type": "code",
   "execution_count": 5,
   "metadata": {},
   "outputs": [],
   "source": [
    "# Construct the Ethereum account by calling Account.privateKeyToAccount\n",
    "# Pass it your private key variable\n",
    "account = Account.privateKeyToAccount(private)\n"
   ]
  },
  {
   "cell_type": "markdown",
   "metadata": {},
   "source": [
    "### Step 5: Call `account.address` and save it as a new variable named `account_address`. Then print the `account_address` variable to get your public Ethereum address from your public key."
   ]
  },
  {
   "cell_type": "code",
   "execution_count": 6,
   "metadata": {},
   "outputs": [
    {
     "name": "stdout",
     "output_type": "stream",
     "text": [
      "0x28B06030E773316b35ecb0e9FD7973821D9BFfeF\n"
     ]
    }
   ],
   "source": [
    "# Call account.address and save it as a new variable named account_address\n",
    "account_address = account.address\n",
    "print(account_address)"
   ]
  },
  {
   "cell_type": "markdown",
   "metadata": {},
   "source": [
    "### Step 6: In the Jupyter notebook, fetch the balance of your Ethereum address by using Web3.py. To do so, complete the following steps:\n",
    "\n",
    "   * Call the `w3.eth.getBalance` method, and pass it the `account_address` variable. Save the returned value as a variable named `wei_balance`.\n",
    "   * Call the function `w3.fromWei`, and pass it your `wei_balance` variable and the string “ether”. Save the returned value as a variable named `ether`. Print your account balance in ether."
   ]
  },
  {
   "cell_type": "code",
   "execution_count": 7,
   "metadata": {},
   "outputs": [
    {
     "name": "stdout",
     "output_type": "stream",
     "text": [
      "100000000000000000000\n",
      "100\n"
     ]
    }
   ],
   "source": [
    "# Call the w3.eth.getBalance method, and pass it the account_address variable\n",
    "# Save the returned value as a variable named `wei_balance`\n",
    "wei_balance = w3.eth.getBalance(account_address)\n",
    "\n",
    "print(wei_balance)\n",
    "\n",
    "# Convert the balance from a denomination in wei to ether\n",
    "ether = w3.fromWei(wei_balance, \"ether\")\n",
    "\n",
    "# Print the number of ether\n",
    "print(ether)"
   ]
  },
  {
   "cell_type": "code",
   "execution_count": 8,
   "metadata": {},
   "outputs": [
    {
     "ename": "SyntaxError",
     "evalue": "invalid syntax (Temp/ipykernel_22452/3176108813.py, line 3)",
     "output_type": "error",
     "traceback": [
      "\u001b[1;36m  File \u001b[1;32m\"C:\\Users\\Joel\\AppData\\Local\\Temp/ipykernel_22452/3176108813.py\"\u001b[1;36m, line \u001b[1;32m3\u001b[0m\n\u001b[1;33m    ether = # YOUR CODE HERE\u001b[0m\n\u001b[1;37m                            ^\u001b[0m\n\u001b[1;31mSyntaxError\u001b[0m\u001b[1;31m:\u001b[0m invalid syntax\n"
     ]
    }
   ],
   "source": [
    "# Call the function w3.fromWei, and pass it your wei_balance variable and the string “ether”\n",
    "# Save the returned value as a variable named `ether`\n",
    "ether = # YOUR CODE HERE\n",
    "\n",
    "# Print your account balance in ether\n",
    "# YOUR CODE HERE"
   ]
  },
  {
   "cell_type": "code",
   "execution_count": null,
   "metadata": {},
   "outputs": [],
   "source": []
  }
 ],
 "metadata": {
  "kernelspec": {
   "display_name": "Python 3 (ipykernel)",
   "language": "python",
   "name": "python3"
  },
  "language_info": {
   "codemirror_mode": {
    "name": "ipython",
    "version": 3
   },
   "file_extension": ".py",
   "mimetype": "text/x-python",
   "name": "python",
   "nbconvert_exporter": "python",
   "pygments_lexer": "ipython3",
   "version": "3.7.8"
  }
 },
 "nbformat": 4,
 "nbformat_minor": 4
}
